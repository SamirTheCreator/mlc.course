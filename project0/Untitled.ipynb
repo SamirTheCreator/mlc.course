{
 "cells": [
  {
   "cell_type": "markdown",
   "id": "67c34cee",
   "metadata": {},
   "source": [
    "# Overview of EDA project.\n"
   ]
  },
  {
   "cell_type": "markdown",
   "id": "191fad57",
   "metadata": {},
   "source": [
    "## Introduction"
   ]
  },
  {
   "cell_type": "markdown",
   "id": "87554c4a",
   "metadata": {},
   "source": [
    "The purpose of this EDA project is to analyze data related to various countries in  order to gain a deeper understanding of their characteristics and patterns. \n",
    "\n",
    "The project will consist of three main parts: \n",
    "- *collecting data*\n",
    "- *cleaning data*\n",
    "- *forming hypotheses*\n",
    "    \n",
    "In the first part, we will gather data from a variety of sources and identify relevant variables for analysis. In my case, I used following sources:\n",
    "- *Kaggle*\n",
    "- *ourworldindata*\n",
    "\n",
    "In the second part, we will ensure that the data is `accurate and consistent`, and format it in a way that makes it easier to analyze. Nothing special, just dropping and merging different datasets.\n",
    "\n",
    "In the third part, we will use statistical analysis and other methods to test hypotheses about the relationships between variables and draw conclusions about the data. We will either `prove or refute` our hypotheses using graphical analysis.\n",
    "\n",
    "By completing this project, we aim to inform decision making and policy development by providing insights into the patterns and trends in the data."
   ]
  },
  {
   "cell_type": "markdown",
   "id": "bddd09ae",
   "metadata": {},
   "source": [
    "## Part 1, 2"
   ]
  },
  {
   "cell_type": "markdown",
   "id": "e2904621",
   "metadata": {},
   "source": [
    "Please refer to [this file](./cleaning/dataCleaning.ipynb) and [this file](./cleaning/cleaning.ipynb)"
   ]
  },
  {
   "cell_type": "code",
   "execution_count": 1,
   "id": "228687ad",
   "metadata": {},
   "outputs": [],
   "source": [
    "import numpy as np\n",
    "import pandas as pd\n",
    "import matplotlib.pyplot as plt"
   ]
  },
  {
   "cell_type": "markdown",
   "id": "d7cbc02a",
   "metadata": {},
   "source": [
    "### This is our clean dataset that doesn't have null values"
   ]
  },
  {
   "cell_type": "code",
   "execution_count": 3,
   "id": "fc2beea7",
   "metadata": {},
   "outputs": [
    {
     "data": {
      "text/html": [
       "<div>\n",
       "<style scoped>\n",
       "    .dataframe tbody tr th:only-of-type {\n",
       "        vertical-align: middle;\n",
       "    }\n",
       "\n",
       "    .dataframe tbody tr th {\n",
       "        vertical-align: top;\n",
       "    }\n",
       "\n",
       "    .dataframe thead th {\n",
       "        text-align: right;\n",
       "    }\n",
       "</style>\n",
       "<table border=\"1\" class=\"dataframe\">\n",
       "  <thead>\n",
       "    <tr style=\"text-align: right;\">\n",
       "      <th></th>\n",
       "      <th>Country</th>\n",
       "      <th>CO2</th>\n",
       "      <th>Population</th>\n",
       "      <th>Happiness</th>\n",
       "      <th>Code</th>\n",
       "      <th>Year</th>\n",
       "      <th>Life Expectancy</th>\n",
       "      <th>SPM</th>\n",
       "      <th>Percentage of all deaths caused by air pollution</th>\n",
       "    </tr>\n",
       "  </thead>\n",
       "  <tbody>\n",
       "    <tr>\n",
       "      <th>0</th>\n",
       "      <td>Afghanistan</td>\n",
       "      <td>1.785029e+08</td>\n",
       "      <td>38972230.0</td>\n",
       "      <td>5.146832e+12</td>\n",
       "      <td>AFG</td>\n",
       "      <td>2019.0</td>\n",
       "      <td>63.6</td>\n",
       "      <td>0.64</td>\n",
       "      <td>16.61</td>\n",
       "    </tr>\n",
       "    <tr>\n",
       "      <th>1</th>\n",
       "      <td>Albania</td>\n",
       "      <td>2.772782e+08</td>\n",
       "      <td>2866849.0</td>\n",
       "      <td>5.146832e+12</td>\n",
       "      <td>ALB</td>\n",
       "      <td>2019.0</td>\n",
       "      <td>79.3</td>\n",
       "      <td>0.67</td>\n",
       "      <td>9.54</td>\n",
       "    </tr>\n",
       "    <tr>\n",
       "      <th>2</th>\n",
       "      <td>Algeria</td>\n",
       "      <td>4.107870e+09</td>\n",
       "      <td>43451666.0</td>\n",
       "      <td>1.450000e+11</td>\n",
       "      <td>DZA</td>\n",
       "      <td>2019.0</td>\n",
       "      <td>76.5</td>\n",
       "      <td>0.75</td>\n",
       "      <td>10.73</td>\n",
       "    </tr>\n",
       "    <tr>\n",
       "      <th>3</th>\n",
       "      <td>Andorra</td>\n",
       "      <td>1.371738e+07</td>\n",
       "      <td>77700.0</td>\n",
       "      <td>5.146832e+12</td>\n",
       "      <td>AND</td>\n",
       "      <td>2019.0</td>\n",
       "      <td>83.0</td>\n",
       "      <td>1.31</td>\n",
       "      <td>2.17</td>\n",
       "    </tr>\n",
       "    <tr>\n",
       "      <th>4</th>\n",
       "      <td>Angola</td>\n",
       "      <td>6.237623e+08</td>\n",
       "      <td>33428485.0</td>\n",
       "      <td>5.146832e+12</td>\n",
       "      <td>AGO</td>\n",
       "      <td>2019.0</td>\n",
       "      <td>62.4</td>\n",
       "      <td>1.04</td>\n",
       "      <td>9.52</td>\n",
       "    </tr>\n",
       "    <tr>\n",
       "      <th>...</th>\n",
       "      <td>...</td>\n",
       "      <td>...</td>\n",
       "      <td>...</td>\n",
       "      <td>...</td>\n",
       "      <td>...</td>\n",
       "      <td>...</td>\n",
       "      <td>...</td>\n",
       "      <td>...</td>\n",
       "      <td>...</td>\n",
       "    </tr>\n",
       "    <tr>\n",
       "      <th>199</th>\n",
       "      <td>Northern Mariana Islands</td>\n",
       "      <td>1.732373e+10</td>\n",
       "      <td>49587.0</td>\n",
       "      <td>5.146832e+12</td>\n",
       "      <td>MNP</td>\n",
       "      <td>2019.0</td>\n",
       "      <td>77.1</td>\n",
       "      <td>2.24</td>\n",
       "      <td>4.34</td>\n",
       "    </tr>\n",
       "    <tr>\n",
       "      <th>200</th>\n",
       "      <td>Puerto Rico</td>\n",
       "      <td>1.732373e+10</td>\n",
       "      <td>3271564.0</td>\n",
       "      <td>1.030000e+11</td>\n",
       "      <td>PRI</td>\n",
       "      <td>2019.0</td>\n",
       "      <td>79.1</td>\n",
       "      <td>0.76</td>\n",
       "      <td>1.30</td>\n",
       "    </tr>\n",
       "    <tr>\n",
       "      <th>201</th>\n",
       "      <td>San Marino</td>\n",
       "      <td>1.732373e+10</td>\n",
       "      <td>34007.0</td>\n",
       "      <td>5.146832e+12</td>\n",
       "      <td>SMR</td>\n",
       "      <td>2019.0</td>\n",
       "      <td>83.0</td>\n",
       "      <td>1.40</td>\n",
       "      <td>2.20</td>\n",
       "    </tr>\n",
       "    <tr>\n",
       "      <th>202</th>\n",
       "      <td>Tokelau</td>\n",
       "      <td>1.732373e+10</td>\n",
       "      <td>1827.0</td>\n",
       "      <td>5.146832e+12</td>\n",
       "      <td>TKL</td>\n",
       "      <td>2019.0</td>\n",
       "      <td>75.1</td>\n",
       "      <td>1.18</td>\n",
       "      <td>1.97</td>\n",
       "    </tr>\n",
       "    <tr>\n",
       "      <th>203</th>\n",
       "      <td>United States Virgin Islands</td>\n",
       "      <td>1.732373e+10</td>\n",
       "      <td>100442.0</td>\n",
       "      <td>5.146832e+12</td>\n",
       "      <td>VIR</td>\n",
       "      <td>2019.0</td>\n",
       "      <td>75.1</td>\n",
       "      <td>0.69</td>\n",
       "      <td>2.35</td>\n",
       "    </tr>\n",
       "  </tbody>\n",
       "</table>\n",
       "<p>204 rows × 9 columns</p>\n",
       "</div>"
      ],
      "text/plain": [
       "                          Country           CO2  Population     Happiness  \\\n",
       "0                     Afghanistan  1.785029e+08  38972230.0  5.146832e+12   \n",
       "1                         Albania  2.772782e+08   2866849.0  5.146832e+12   \n",
       "2                         Algeria  4.107870e+09  43451666.0  1.450000e+11   \n",
       "3                         Andorra  1.371738e+07     77700.0  5.146832e+12   \n",
       "4                          Angola  6.237623e+08  33428485.0  5.146832e+12   \n",
       "..                            ...           ...         ...           ...   \n",
       "199      Northern Mariana Islands  1.732373e+10     49587.0  5.146832e+12   \n",
       "200                   Puerto Rico  1.732373e+10   3271564.0  1.030000e+11   \n",
       "201                    San Marino  1.732373e+10     34007.0  5.146832e+12   \n",
       "202                       Tokelau  1.732373e+10      1827.0  5.146832e+12   \n",
       "203  United States Virgin Islands  1.732373e+10    100442.0  5.146832e+12   \n",
       "\n",
       "    Code    Year  Life Expectancy   SPM  \\\n",
       "0    AFG  2019.0             63.6  0.64   \n",
       "1    ALB  2019.0             79.3  0.67   \n",
       "2    DZA  2019.0             76.5  0.75   \n",
       "3    AND  2019.0             83.0  1.31   \n",
       "4    AGO  2019.0             62.4  1.04   \n",
       "..   ...     ...              ...   ...   \n",
       "199  MNP  2019.0             77.1  2.24   \n",
       "200  PRI  2019.0             79.1  0.76   \n",
       "201  SMR  2019.0             83.0  1.40   \n",
       "202  TKL  2019.0             75.1  1.18   \n",
       "203  VIR  2019.0             75.1  0.69   \n",
       "\n",
       "     Percentage of all deaths caused by air pollution  \n",
       "0                                               16.61  \n",
       "1                                                9.54  \n",
       "2                                               10.73  \n",
       "3                                                2.17  \n",
       "4                                                9.52  \n",
       "..                                                ...  \n",
       "199                                              4.34  \n",
       "200                                              1.30  \n",
       "201                                              2.20  \n",
       "202                                              1.97  \n",
       "203                                              2.35  \n",
       "\n",
       "[204 rows x 9 columns]"
      ]
     },
     "execution_count": 3,
     "metadata": {},
     "output_type": "execute_result"
    }
   ],
   "source": [
    "df = pd.read_csv('cleaning/clean.csv')\n",
    "df.dropna(inplace=True)\n",
    "df"
   ]
  },
  {
   "cell_type": "code",
   "execution_count": 4,
   "id": "b98c67b8",
   "metadata": {},
   "outputs": [
    {
     "data": {
      "text/plain": [
       "Country                                             0\n",
       "CO2                                                 0\n",
       "Population                                          0\n",
       "Happiness                                           0\n",
       "Code                                                0\n",
       "Year                                                0\n",
       "Life Expectancy                                     0\n",
       "SPM                                                 0\n",
       "Percentage of all deaths caused by air pollution    0\n",
       "dtype: int64"
      ]
     },
     "execution_count": 4,
     "metadata": {},
     "output_type": "execute_result"
    }
   ],
   "source": [
    "df.isnull().sum()"
   ]
  },
  {
   "cell_type": "markdown",
   "id": "5d2ebdac",
   "metadata": {},
   "source": [
    "## Part 3"
   ]
  },
  {
   "cell_type": "markdown",
   "id": "6c3831ad",
   "metadata": {},
   "source": [
    "### Forming hypotheses"
   ]
  },
  {
   "cell_type": "markdown",
   "id": "55eaa8c1",
   "metadata": {},
   "source": []
  }
 ],
 "metadata": {
  "kernelspec": {
   "display_name": "Python 3 (ipykernel)",
   "language": "python",
   "name": "python3"
  },
  "language_info": {
   "codemirror_mode": {
    "name": "ipython",
    "version": 3
   },
   "file_extension": ".py",
   "mimetype": "text/x-python",
   "name": "python",
   "nbconvert_exporter": "python",
   "pygments_lexer": "ipython3",
   "version": "3.10.1"
  }
 },
 "nbformat": 4,
 "nbformat_minor": 5
}
