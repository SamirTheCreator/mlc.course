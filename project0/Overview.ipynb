{
 "cells": [
  {
   "cell_type": "markdown",
   "id": "b0b1978e",
   "metadata": {},
   "source": [
    "# Overview of EDA project.\n"
   ]
  },
  {
   "cell_type": "markdown",
   "id": "364d5c31",
   "metadata": {},
   "source": [
    "## Introduction"
   ]
  },
  {
   "cell_type": "markdown",
   "id": "5b52d436",
   "metadata": {},
   "source": [
    "The purpose of this EDA project is to analyze data related to various countries in  order to gain a deeper understanding of their characteristics and patterns. \n",
    "\n",
    "The project will consist of three main parts: \n",
    "- *collecting data*\n",
    "- *cleaning data*\n",
    "- *forming hypotheses*\n",
    "    \n",
    "In the first part, we will gather data from a variety of sources and identify relevant variables for analysis. In my case, I used following sources:\n",
    "- *Kaggle*\n",
    "- *ourworldindata*\n",
    "\n",
    "In the second part, we will ensure that the data is `accurate and consistent`, and format it in a way that makes it easier to analyze. Nothing special, just dropping and merging different datasets.\n",
    "\n",
    "In the third part, we will use statistical analysis and other methods to test hypotheses about the relationships between variables and draw conclusions about the data. We will either `prove or refute` our hypotheses using graphical analysis.\n",
    "\n",
    "By completing this project, we aim to inform decision making and policy development by providing insights into the patterns and trends in the data."
   ]
  },
  {
   "cell_type": "markdown",
   "id": "eb39f9dd",
   "metadata": {},
   "source": [
    "## Part 1, 2"
   ]
  },
  {
   "cell_type": "markdown",
   "id": "20c2c237",
   "metadata": {},
   "source": [
    "Please refer to [this file](./cleaning/dataCleaning.ipynb) and [this file](./cleaning/cleaning.ipynb)"
   ]
  },
  {
   "cell_type": "code",
   "execution_count": 1,
   "id": "77465a92",
   "metadata": {},
   "outputs": [],
   "source": [
    "import numpy as np\n",
    "import pandas as pd\n",
    "import matplotlib.pyplot as plt"
   ]
  },
  {
   "cell_type": "markdown",
   "id": "12de0aa4",
   "metadata": {},
   "source": [
    "### This is our clean dataset that doesn't have null values"
   ]
  },
  {
   "cell_type": "code",
   "execution_count": 11,
   "id": "98797f3e",
   "metadata": {},
   "outputs": [
    {
     "data": {
      "text/html": [
       "<div>\n",
       "<style scoped>\n",
       "    .dataframe tbody tr th:only-of-type {\n",
       "        vertical-align: middle;\n",
       "    }\n",
       "\n",
       "    .dataframe tbody tr th {\n",
       "        vertical-align: top;\n",
       "    }\n",
       "\n",
       "    .dataframe thead th {\n",
       "        text-align: right;\n",
       "    }\n",
       "</style>\n",
       "<table border=\"1\" class=\"dataframe\">\n",
       "  <thead>\n",
       "    <tr style=\"text-align: right;\">\n",
       "      <th></th>\n",
       "      <th>Country</th>\n",
       "      <th>CO2</th>\n",
       "      <th>Population</th>\n",
       "      <th>Happiness</th>\n",
       "      <th>Code</th>\n",
       "      <th>Year</th>\n",
       "      <th>Life Expectancy</th>\n",
       "      <th>SPM</th>\n",
       "      <th>Percentage of all deaths caused by air pollution</th>\n",
       "    </tr>\n",
       "  </thead>\n",
       "  <tbody>\n",
       "    <tr>\n",
       "      <th>0</th>\n",
       "      <td>Afghanistan</td>\n",
       "      <td>1.785029e+08</td>\n",
       "      <td>38972230.0</td>\n",
       "      <td>5.146832e+12</td>\n",
       "      <td>AFG</td>\n",
       "      <td>2019.0</td>\n",
       "      <td>63.6</td>\n",
       "      <td>0.64</td>\n",
       "      <td>16.61</td>\n",
       "    </tr>\n",
       "    <tr>\n",
       "      <th>1</th>\n",
       "      <td>Albania</td>\n",
       "      <td>2.772782e+08</td>\n",
       "      <td>2866849.0</td>\n",
       "      <td>5.146832e+12</td>\n",
       "      <td>ALB</td>\n",
       "      <td>2019.0</td>\n",
       "      <td>79.3</td>\n",
       "      <td>0.67</td>\n",
       "      <td>9.54</td>\n",
       "    </tr>\n",
       "    <tr>\n",
       "      <th>2</th>\n",
       "      <td>Algeria</td>\n",
       "      <td>4.107870e+09</td>\n",
       "      <td>43451666.0</td>\n",
       "      <td>1.450000e+11</td>\n",
       "      <td>DZA</td>\n",
       "      <td>2019.0</td>\n",
       "      <td>76.5</td>\n",
       "      <td>0.75</td>\n",
       "      <td>10.73</td>\n",
       "    </tr>\n",
       "    <tr>\n",
       "      <th>3</th>\n",
       "      <td>Andorra</td>\n",
       "      <td>1.371738e+07</td>\n",
       "      <td>77700.0</td>\n",
       "      <td>5.146832e+12</td>\n",
       "      <td>AND</td>\n",
       "      <td>2019.0</td>\n",
       "      <td>83.0</td>\n",
       "      <td>1.31</td>\n",
       "      <td>2.17</td>\n",
       "    </tr>\n",
       "    <tr>\n",
       "      <th>4</th>\n",
       "      <td>Angola</td>\n",
       "      <td>6.237623e+08</td>\n",
       "      <td>33428485.0</td>\n",
       "      <td>5.146832e+12</td>\n",
       "      <td>AGO</td>\n",
       "      <td>2019.0</td>\n",
       "      <td>62.4</td>\n",
       "      <td>1.04</td>\n",
       "      <td>9.52</td>\n",
       "    </tr>\n",
       "    <tr>\n",
       "      <th>...</th>\n",
       "      <td>...</td>\n",
       "      <td>...</td>\n",
       "      <td>...</td>\n",
       "      <td>...</td>\n",
       "      <td>...</td>\n",
       "      <td>...</td>\n",
       "      <td>...</td>\n",
       "      <td>...</td>\n",
       "      <td>...</td>\n",
       "    </tr>\n",
       "    <tr>\n",
       "      <th>199</th>\n",
       "      <td>Northern Mariana Islands</td>\n",
       "      <td>1.732373e+10</td>\n",
       "      <td>49587.0</td>\n",
       "      <td>5.146832e+12</td>\n",
       "      <td>MNP</td>\n",
       "      <td>2019.0</td>\n",
       "      <td>77.1</td>\n",
       "      <td>2.24</td>\n",
       "      <td>4.34</td>\n",
       "    </tr>\n",
       "    <tr>\n",
       "      <th>200</th>\n",
       "      <td>Puerto Rico</td>\n",
       "      <td>1.732373e+10</td>\n",
       "      <td>3271564.0</td>\n",
       "      <td>1.030000e+11</td>\n",
       "      <td>PRI</td>\n",
       "      <td>2019.0</td>\n",
       "      <td>79.1</td>\n",
       "      <td>0.76</td>\n",
       "      <td>1.30</td>\n",
       "    </tr>\n",
       "    <tr>\n",
       "      <th>201</th>\n",
       "      <td>San Marino</td>\n",
       "      <td>1.732373e+10</td>\n",
       "      <td>34007.0</td>\n",
       "      <td>5.146832e+12</td>\n",
       "      <td>SMR</td>\n",
       "      <td>2019.0</td>\n",
       "      <td>83.0</td>\n",
       "      <td>1.40</td>\n",
       "      <td>2.20</td>\n",
       "    </tr>\n",
       "    <tr>\n",
       "      <th>202</th>\n",
       "      <td>Tokelau</td>\n",
       "      <td>1.732373e+10</td>\n",
       "      <td>1827.0</td>\n",
       "      <td>5.146832e+12</td>\n",
       "      <td>TKL</td>\n",
       "      <td>2019.0</td>\n",
       "      <td>75.1</td>\n",
       "      <td>1.18</td>\n",
       "      <td>1.97</td>\n",
       "    </tr>\n",
       "    <tr>\n",
       "      <th>203</th>\n",
       "      <td>United States Virgin Islands</td>\n",
       "      <td>1.732373e+10</td>\n",
       "      <td>100442.0</td>\n",
       "      <td>5.146832e+12</td>\n",
       "      <td>VIR</td>\n",
       "      <td>2019.0</td>\n",
       "      <td>75.1</td>\n",
       "      <td>0.69</td>\n",
       "      <td>2.35</td>\n",
       "    </tr>\n",
       "  </tbody>\n",
       "</table>\n",
       "<p>204 rows × 9 columns</p>\n",
       "</div>"
      ],
      "text/plain": [
       "                          Country           CO2  Population     Happiness  \\\n",
       "0                     Afghanistan  1.785029e+08  38972230.0  5.146832e+12   \n",
       "1                         Albania  2.772782e+08   2866849.0  5.146832e+12   \n",
       "2                         Algeria  4.107870e+09  43451666.0  1.450000e+11   \n",
       "3                         Andorra  1.371738e+07     77700.0  5.146832e+12   \n",
       "4                          Angola  6.237623e+08  33428485.0  5.146832e+12   \n",
       "..                            ...           ...         ...           ...   \n",
       "199      Northern Mariana Islands  1.732373e+10     49587.0  5.146832e+12   \n",
       "200                   Puerto Rico  1.732373e+10   3271564.0  1.030000e+11   \n",
       "201                    San Marino  1.732373e+10     34007.0  5.146832e+12   \n",
       "202                       Tokelau  1.732373e+10      1827.0  5.146832e+12   \n",
       "203  United States Virgin Islands  1.732373e+10    100442.0  5.146832e+12   \n",
       "\n",
       "    Code    Year  Life Expectancy   SPM  \\\n",
       "0    AFG  2019.0             63.6  0.64   \n",
       "1    ALB  2019.0             79.3  0.67   \n",
       "2    DZA  2019.0             76.5  0.75   \n",
       "3    AND  2019.0             83.0  1.31   \n",
       "4    AGO  2019.0             62.4  1.04   \n",
       "..   ...     ...              ...   ...   \n",
       "199  MNP  2019.0             77.1  2.24   \n",
       "200  PRI  2019.0             79.1  0.76   \n",
       "201  SMR  2019.0             83.0  1.40   \n",
       "202  TKL  2019.0             75.1  1.18   \n",
       "203  VIR  2019.0             75.1  0.69   \n",
       "\n",
       "     Percentage of all deaths caused by air pollution  \n",
       "0                                               16.61  \n",
       "1                                                9.54  \n",
       "2                                               10.73  \n",
       "3                                                2.17  \n",
       "4                                                9.52  \n",
       "..                                                ...  \n",
       "199                                              4.34  \n",
       "200                                              1.30  \n",
       "201                                              2.20  \n",
       "202                                              1.97  \n",
       "203                                              2.35  \n",
       "\n",
       "[204 rows x 9 columns]"
      ]
     },
     "execution_count": 11,
     "metadata": {},
     "output_type": "execute_result"
    }
   ],
   "source": [
    "df = pd.read_csv('cleaning/clean.csv')\n",
    "df.dropna(inplace=True)\n",
    "df"
   ]
  },
  {
   "cell_type": "code",
   "execution_count": 4,
   "id": "a0092710",
   "metadata": {},
   "outputs": [
    {
     "data": {
      "text/plain": [
       "Country                                             0\n",
       "CO2                                                 0\n",
       "Population                                          0\n",
       "Happiness                                           0\n",
       "Code                                                0\n",
       "Year                                                0\n",
       "Life Expectancy                                     0\n",
       "SPM                                                 0\n",
       "Percentage of all deaths caused by air pollution    0\n",
       "dtype: int64"
      ]
     },
     "execution_count": 4,
     "metadata": {},
     "output_type": "execute_result"
    }
   ],
   "source": [
    "df.isnull().sum()"
   ]
  },
  {
   "cell_type": "markdown",
   "id": "c2b20004",
   "metadata": {},
   "source": [
    "## Part 3"
   ]
  },
  {
   "cell_type": "markdown",
   "id": "7f2efc0a",
   "metadata": {},
   "source": [
    "### Forming hypotheses"
   ]
  },
  {
   "cell_type": "markdown",
   "id": "c3eeca20",
   "metadata": {},
   "source": [
    "The third part of our EDA project involves forming hypotheses about the relationships between variables in the data. We have identified four hypotheses to test:\n",
    "\n",
    "- The bigger the population of a country, the more CO2 emissions there are.\n",
    "- The lower the happiness rate in the country, the more suicides are committed.\n",
    "- The less deaths are caused by suicide, the bigger life expectancy is.\n",
    "- The more CO2 emissions there are, the more deaths are caused by air pollution.\n",
    "\n",
    "To test these hypotheses, we will use graphical analysis and the seaborn library to visualize the data and examine the relationships between these variables. By using these tools, we aim to either prove or refute the hypotheses by analyzing the patterns and trends in the data. By evaluating the results of our analysis, we hope to gain a better understanding of the factors that may be influencing these phenomena and inform decision making and policy development."
   ]
  },
  {
   "cell_type": "code",
   "execution_count": 7,
   "id": "f5e08ab5",
   "metadata": {},
   "outputs": [],
   "source": [
    "import seaborn as sns"
   ]
  },
  {
   "cell_type": "code",
   "execution_count": 22,
   "id": "e3a5d9fe",
   "metadata": {},
   "outputs": [
    {
     "data": {
      "image/png": "[encoded data removed]",
      "text/plain": [
       "<Figure size 432x288 with 2 Axes>"
      ]
     },
     "metadata": {
      "needs_background": "light"
     },
     "output_type": "display_data"
    }
   ],
   "source": [
    "hps = df[['CO2', 'Population', 'Happiness', 'Life Expectancy', 'SPM', 'Percentage of all deaths caused by air pollution']]\n",
    "popco2 = sns.heatmap(hps.corr(), annot=True, vmin=-1, vmax=1)"
   ]
  },
  {
   "cell_type": "markdown",
   "id": "f96ba0bb",
   "metadata": {},
   "source": [
    "From the heatmap above we can see that,\n",
    "- Our first hypothesis was wrong, there's a very little correlation (close to zero) between population of a country and it's carbon emissions.\n",
    "- Our second hypothesis appears to be wrong too, the correlation between happiness rate and percentage of death which are suicides is even lower than the previous one.\n",
    "- The third hypothesis is close to being true as correlation is negative (which it should be) and also much closer to one than to zero.\n",
    "- Fourth hypothesis is false, and it is not surprising since carbon emissions is not the only source of air pollution."
   ]
  },
  {
   "cell_type": "code",
   "execution_count": null,
   "id": "523aaeef",
   "metadata": {},
   "outputs": [],
   "source": []
  }
 ],
 "metadata": {
  "kernelspec": {
   "display_name": "Python 3 (ipykernel)",
   "language": "python",
   "name": "python3"
  },
  "language_info": {
   "codemirror_mode": {
    "name": "ipython",
    "version": 3
   },
   "file_extension": ".py",
   "mimetype": "text/x-python",
   "name": "python",
   "nbconvert_exporter": "python",
   "pygments_lexer": "ipython3",
   "version": "3.10.1"
  }
 },
 "nbformat": 4,
 "nbformat_minor": 5
}
